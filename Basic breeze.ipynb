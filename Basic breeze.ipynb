{
 "cells": [
  {
   "cell_type": "markdown",
   "metadata": {},
   "source": [
    "# Vector operations in breeze library"
   ]
  },
  {
   "cell_type": "code",
   "execution_count": 2,
   "metadata": {},
   "outputs": [
    {
     "data": {
      "text/plain": [
       "\u001b[32mimport \u001b[39m\u001b[36m$ivy.$                            \n",
       "\u001b[39m\n",
       "\u001b[32mimport \u001b[39m\u001b[36m$ivy.$                                    \u001b[39m"
      ]
     },
     "execution_count": 2,
     "metadata": {},
     "output_type": "execute_result"
    }
   ],
   "source": [
    "import $ivy.`org.scalanlp::breeze:0.13.1`\n",
    "import $ivy.`org.scalanlp::breeze-natives:0.13.1`"
   ]
  },
  {
   "cell_type": "code",
   "execution_count": 3,
   "metadata": {},
   "outputs": [
    {
     "data": {
      "text/plain": [
       "\u001b[32mimport \u001b[39m\u001b[36mbreeze.linalg._\n",
       "\u001b[39m\n",
       "\u001b[36mv\u001b[39m: \u001b[32mDenseVector\u001b[39m[\u001b[32mDouble\u001b[39m] = DenseVector(1.0, 2.0, 3.0)"
      ]
     },
     "execution_count": 3,
     "metadata": {},
     "output_type": "execute_result"
    }
   ],
   "source": [
    "import breeze.linalg._\n",
    "val v = DenseVector(1.0, 2.0, 3.0)"
   ]
  },
  {
   "cell_type": "code",
   "execution_count": 5,
   "metadata": {},
   "outputs": [
    {
     "data": {
      "text/plain": [
       "\u001b[36mres4_0\u001b[39m: \u001b[32mDouble\u001b[39m = \u001b[32m1.0\u001b[39m\n",
       "\u001b[36mres4_1\u001b[39m: \u001b[32mDouble\u001b[39m = \u001b[32m2.0\u001b[39m\n",
       "\u001b[36mres4_2\u001b[39m: \u001b[32mDouble\u001b[39m = \u001b[32m3.0\u001b[39m"
      ]
     },
     "execution_count": 5,
     "metadata": {},
     "output_type": "execute_result"
    }
   ],
   "source": [
    "v(0);v(1);v(2)"
   ]
  },
  {
   "cell_type": "code",
   "execution_count": 6,
   "metadata": {},
   "outputs": [
    {
     "data": {
      "text/plain": [
       "\u001b[36mres5_0\u001b[39m: \u001b[32mDenseVector\u001b[39m[\u001b[32mDouble\u001b[39m] = DenseVector(2.0, 4.0, 6.0)\n",
       "\u001b[36mres5_1\u001b[39m: \u001b[32mDenseVector\u001b[39m[\u001b[32mDouble\u001b[39m] = DenseVector(3.0, 4.0, 5.0)"
      ]
     },
     "execution_count": 6,
     "metadata": {},
     "output_type": "execute_result"
    }
   ],
   "source": [
    "//element-wise operations with a scalar value\n",
    "v :* 2.0 // :* is an element-wise multiplication\n",
    "v :+ 2.0 // :* is an element-wise addition\n",
    "//returns a new DenseVector every time."
   ]
  },
  {
   "cell_type": "code",
   "execution_count": 7,
   "metadata": {},
   "outputs": [
    {
     "data": {
      "text/plain": [
       "\u001b[36mres6\u001b[39m: \u001b[32mDenseVector\u001b[39m[\u001b[32mDouble\u001b[39m] = DenseVector(1.0, 2.0, 3.0)"
      ]
     },
     "execution_count": 7,
     "metadata": {},
     "output_type": "execute_result"
    }
   ],
   "source": [
    "v //original vector is not changed. This is the power of scala - immutability"
   ]
  },
  {
   "cell_type": "code",
   "execution_count": 18,
   "metadata": {},
   "outputs": [],
   "source": [
    "//v :* 2\n",
    "//fails because the dense vector had Double values and it needs the scalar\n",
    "//to be of the same time"
   ]
  },
  {
   "cell_type": "code",
   "execution_count": 18,
   "metadata": {
    "scrolled": true
   },
   "outputs": [
    {
     "data": {
      "text/plain": [
       "\u001b[36mvInt\u001b[39m: \u001b[32mDenseVector\u001b[39m[\u001b[32mInt\u001b[39m] = DenseVector(1, 2, 3)\n",
       "\u001b[36mres17_1\u001b[39m: \u001b[32mDenseVector\u001b[39m[\u001b[32mInt\u001b[39m] = DenseVector(2, 4, 6)"
      ]
     },
     "execution_count": 18,
     "metadata": {},
     "output_type": "execute_result"
    }
   ],
   "source": [
    "val vInt = DenseVector(1,2,3)\n",
    "//if I create a DenseVector with int data then the scalar multiplication\n",
    "//with int data works\n",
    "vInt :* 2\n",
    "//however if you try to multiply by a double or long, the operation fails\n",
    "//vInt :* 2.0 //fails with could not find implicit value for parameter\n",
    "//vInt :* 2l //fails"
   ]
  },
  {
   "cell_type": "code",
   "execution_count": 16,
   "metadata": {},
   "outputs": [
    {
     "data": {
      "text/plain": [
       "\u001b[36mres15_0\u001b[39m: \u001b[32mDenseVector\u001b[39m[\u001b[32mInt\u001b[39m] = DenseVector(5, 7, 9)\n",
       "\u001b[36mres15_1\u001b[39m: \u001b[32mDenseVector\u001b[39m[\u001b[32mInt\u001b[39m] = DenseVector(1, 4, 9)"
      ]
     },
     "execution_count": 16,
     "metadata": {},
     "output_type": "execute_result"
    }
   ],
   "source": [
    "//You can now add or multiply vectors but they need to be of the same length\n",
    "vInt :+ DenseVector(4,5,6) //works and should return DenseVector(5,7,9)\n",
    "vInt :* DenseVector(1,2,3) //works and should return DenseVector(1,4,9)\n",
    "//however if you try to do any operation with a different length vector,\n",
    "//the operation will fail\n",
    "//vInt :+ DenseVector(4,5) //fails with IllegalArgumentException\n",
    "//vInt :- DenseVector(3,4) //fails with IllegalArgumentException"
   ]
  },
  {
   "cell_type": "markdown",
   "metadata": {},
   "source": [
    "element-wise operation are of following types\n",
    ":+ (Add), :- (Subtract), :* (Multiply), :/ (Divide), :% (Remainder), :^(power)\n",
    "full list of operators are available here => https://github.com/scalanlp/breeze/wiki/Linear-Algebra-Cheat-Sheet\n"
   ]
  },
  {
   "cell_type": "code",
   "execution_count": 17,
   "metadata": {},
   "outputs": [
    {
     "data": {
      "text/plain": [
       "\u001b[36mres16\u001b[39m: \u001b[32mInt\u001b[39m = \u001b[32m10\u001b[39m"
      ]
     },
     "execution_count": 17,
     "metadata": {},
     "output_type": "execute_result"
    }
   ],
   "source": [
    "//breeze also support dot product of two vectors\n",
    "//A(1,2,3) dot B(3,2,1) is (1*3) + (2*2) + (3*1) = 3 + 4 + 3 = 10\n",
    "vInt dot DenseVector(3,2,1) //should print 10\n",
    "//vInt dot DenseVector(3,2) //should fail as the vectors are not of the same length"
   ]
  },
  {
   "cell_type": "markdown",
   "metadata": {},
   "source": [
    "###### TIP: do not mix element-wise operators with regurlar operators as the precedence of the element-wise operators is lower than the regualar operators. You might get unexpected results."
   ]
  },
  {
   "cell_type": "markdown",
   "metadata": {
    "slideshow": {
     "slide_type": "-"
    }
   },
   "source": [
    "Breeze also supports Sparse vectors which should be used when most of the elements are zeros. SparseVector and HashVector are two implementations of Sparse vectors. HashVector is not as memory efficient like SparseVector but offers a lot of versatility whereas SparseVector is extremely memory efficient but slower to add non zero elements. DenseVector, SparseVector and HashVector all implement the Vector trait"
   ]
  },
  {
   "cell_type": "markdown",
   "metadata": {},
   "source": [
    "# Matrix operations in breeze"
   ]
  },
  {
   "cell_type": "code",
   "execution_count": 23,
   "metadata": {},
   "outputs": [
    {
     "data": {
      "text/plain": [
       "\u001b[36mmDbl\u001b[39m: \u001b[32mDenseMatrix\u001b[39m[\u001b[32mDouble\u001b[39m] = 1.0  2.0  3.0  \n",
       "4.0  5.0  6.0  \n",
       "\u001b[36mmInt\u001b[39m: \u001b[32mDenseMatrix\u001b[39m[\u001b[32mInt\u001b[39m] = 1  2  3  \n",
       "4  5  6  "
      ]
     },
     "execution_count": 23,
     "metadata": {},
     "output_type": "execute_result"
    }
   ],
   "source": [
    "//a matrix can be represented as below\n",
    "val mDbl = DenseMatrix((1.0,2.0,3.0),(4.0,5.0,6.0))\n",
    "//creates a DenseMatrix 2 x 3 matrix of double elements\n",
    "val mInt = DenseMatrix((1,2,3),(4,5,6))\n",
    "//creates a DenseMatrix 2 x 3 matrix of int elements\n",
    "// you cannot mix and match elements of different data types in a matrix\n",
    "//val mMxd = DenseMatrix((1,2,3),(4.0,5.0,6.0)) //fails"
   ]
  },
  {
   "cell_type": "code",
   "execution_count": 29,
   "metadata": {},
   "outputs": [
    {
     "data": {
      "text/plain": [
       "\u001b[36mres28_0\u001b[39m: \u001b[32mDenseMatrix\u001b[39m[\u001b[32mDouble\u001b[39m] = 2.0  4.0   6.0   \n",
       "8.0  10.0  12.0  \n",
       "\u001b[36mres28_1\u001b[39m: \u001b[32mDenseMatrix\u001b[39m[\u001b[32mDouble\u001b[39m] = 3.0  4.0  5.0  \n",
       "6.0  7.0  8.0  \n",
       "\u001b[36mres28_2\u001b[39m: \u001b[32mDenseMatrix\u001b[39m[\u001b[32mInt\u001b[39m] = 2  4   6   \n",
       "8  10  12  \n",
       "\u001b[36mres28_3\u001b[39m: \u001b[32mDenseMatrix\u001b[39m[\u001b[32mInt\u001b[39m] = 2  4   6   \n",
       "8  10  12  \n",
       "\u001b[36mres28_4\u001b[39m: \u001b[32mDenseMatrix\u001b[39m[\u001b[32mDouble\u001b[39m] = 2.0  4.0   6.0   \n",
       "8.0  10.0  12.0  \n",
       "\u001b[36mres28_5\u001b[39m: \u001b[32mBoolean\u001b[39m = \u001b[32mtrue\u001b[39m"
      ]
     },
     "execution_count": 29,
     "metadata": {},
     "output_type": "execute_result"
    }
   ],
   "source": [
    "// support for matrix multiplication with a scalar value\n",
    "mDbl :* 2.0\n",
    "2.0 :+ mDbl \n",
    "//both are same - scalar value can be put before or after the matrix\n",
    "mInt :* 2\n",
    "2 :* mInt\n",
    "//regular operators are also supported\n",
    "2.0 * mDbl\n",
    "//both :* and * do a element-wise multiplication and results in an\n",
    "// identical operation\n",
    "mDbl :* 2.0 == 2.0 * mDbl"
   ]
  },
  {
   "cell_type": "markdown",
   "metadata": {},
   "source": [
    "# Builders for Vectors and Matrices "
   ]
  },
  {
   "cell_type": "markdown",
   "metadata": {},
   "source": [
    "In addition to the apply method there are various other convenience \n",
    "methods to create Vectors and Matrices"
   ]
  },
  {
   "cell_type": "code",
   "execution_count": 32,
   "metadata": {},
   "outputs": [
    {
     "data": {
      "text/plain": [
       "\u001b[36mres31_0\u001b[39m: \u001b[32mDenseVector\u001b[39m[\u001b[32mInt\u001b[39m] = DenseVector(1, 1, 1, 1, 1)\n",
       "\u001b[36mres31_1\u001b[39m: \u001b[32mDenseVector\u001b[39m[\u001b[32mInt\u001b[39m] = DenseVector(0, 0, 0, 0)"
      ]
     },
     "execution_count": 32,
     "metadata": {},
     "output_type": "execute_result"
    }
   ],
   "source": [
    "DenseVector.ones[Int](5) \n",
    "//creates a DenseVector with 5 elements with a value of 1\n",
    "DenseVector.zeros[Int](4)\n",
    "//creates a DenseVector with 5 elements with a value of 1\n"
   ]
  },
  {
   "cell_type": "markdown",
   "metadata": {},
   "source": [
    "There are some utility functions to create Vectors and Matrices"
   ]
  },
  {
   "cell_type": "code",
   "execution_count": 33,
   "metadata": {},
   "outputs": [
    {
     "data": {
      "text/plain": [
       "\u001b[36mres32\u001b[39m: \u001b[32mDenseVector\u001b[39m[\u001b[32mDouble\u001b[39m] = DenseVector(0.0, 0.1111111111111111, 0.2222222222222222, 0.3333333333333333, 0.4444444444444444, 0.5555555555555556, 0.6666666666666666, 0.7777777777777777, 0.8888888888888888, 1.0)"
      ]
     },
     "execution_count": 33,
     "metadata": {},
     "output_type": "execute_result"
    }
   ],
   "source": [
    "linspace(0.0, 1.0, 10) \n",
    "// creates equally spaced values between the first two parameter matching \n",
    "// the count specified in the tried parameter"
   ]
  },
  {
   "cell_type": "code",
   "execution_count": null,
   "metadata": {
    "collapsed": true
   },
   "outputs": [],
   "source": []
  }
 ],
 "metadata": {
  "kernelspec": {
   "display_name": "Scala",
   "language": "scala",
   "name": "scala"
  },
  "language_info": {
   "codemirror_mode": "text/x-scala",
   "file_extension": ".scala",
   "mimetype": "text/x-scala",
   "name": "scala211",
   "nbconvert_exporter": "script",
   "pygments_lexer": "scala",
   "version": "2.11.11"
  }
 },
 "nbformat": 4,
 "nbformat_minor": 2
}
