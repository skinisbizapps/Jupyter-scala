{
 "cells": [
  {
   "cell_type": "code",
   "execution_count": 11,
   "metadata": {
    "scrolled": true
   },
   "outputs": [
    {
     "name": "stdout",
     "output_type": "stream",
     "text": [
      "Hello World"
     ]
    }
   ],
   "source": [
    "//jupyter notebook doesn't come with scala kernel and that has to be installed.\n",
    "//Instructions to install scala kernel is available here => https://github.com/alexarchambault/jupyter-scala\n",
    "\n",
    "//Quick test if the scala kernel is working as expected.\n",
    "print(\"Hello World\")\n",
    "\n",
    "//if it is printing \"Hello World\" - it does!!!"
   ]
  },
  {
   "cell_type": "code",
   "execution_count": 12,
   "metadata": {},
   "outputs": [
    {
     "data": {
      "text/plain": [
       "\u001b[32mimport \u001b[39m\u001b[36m$ivy.$                            \n",
       "\u001b[39m\n",
       "\u001b[32mimport \u001b[39m\u001b[36m$ivy.$                                    \u001b[39m"
      ]
     },
     "execution_count": 12,
     "metadata": {},
     "output_type": "execute_result"
    }
   ],
   "source": [
    "/* \n",
    "importing external libraries requires you to use the statements below. It uses ivy for dependency management.\n",
    "Breeze is a library for numerical processing. It aims to be generic, clean, \n",
    "and powerful without sacrificing (much) efficiency.\n",
    "*/\n",
    "import $ivy.`org.scalanlp::breeze:0.13.1`\n",
    "import $ivy.`org.scalanlp::breeze-natives:0.13.1`"
   ]
  },
  {
   "cell_type": "code",
   "execution_count": 13,
   "metadata": {},
   "outputs": [
    {
     "data": {
      "text/plain": [
       "\u001b[32mimport \u001b[39m\u001b[36mbreeze.linalg._\n",
       "\u001b[39m\n",
       "\u001b[32mimport \u001b[39m\u001b[36mbreeze.numerics._\n",
       "//importing all the classes uner the linalg and numerics package of breeze library.\u001b[39m"
      ]
     },
     "execution_count": 13,
     "metadata": {},
     "output_type": "execute_result"
    }
   ],
   "source": [
    "import breeze.linalg._\n",
    "import breeze.numerics._\n",
    "//importing all the classes uner the linalg and numerics package of breeze library."
   ]
  },
  {
   "cell_type": "code",
   "execution_count": 14,
   "metadata": {},
   "outputs": [
    {
     "data": {
      "text/plain": [
       "\u001b[36mvec\u001b[39m: \u001b[32mDenseVector\u001b[39m[\u001b[32mDouble\u001b[39m] = DenseVector(-2.0, -1.9595959595959596, -1.9191919191919191, -1.878787878787879, -1.8383838383838385, -1.797979797979798, -1.7575757575757576, -1.7171717171717171, -1.6767676767676767, -1.6363636363636362, -1.595959595959596, -1.5555555555555556, -1.5151515151515151, -1.4747474747474747, -1.4343434343434343, -1.393939393939394, -1.3535353535353534, -1.3131313131313131, -1.2727272727272727, -1.2323232323232323, -1.1919191919191918, -1.1515151515151514, -1.1111111111111112, -1.0707070707070705, -1.0303030303030303, -0.9898989898989898, -0.9494949494949494, -0.909090909090909, -0.8686868686868685, -0.8282828282828283, -0.7878787878787878, -0.7474747474747474, -0.707070707070707, -0.6666666666666665, -0.6262626262626261, -0.5858585858585856, -0.5454545454545454, -0.505050505050505, -0.46464646464646453, -0.4242424242424241, -0.38383838383838365, -0.3434343434343432, -0.303030303030303, -0.26262626262626254, -0.2222222222222221, -0.18181818181818166, -\u001b[33m...\u001b[39m\n",
       "\u001b[36mres13_1\u001b[39m: \u001b[32mInt\u001b[39m = \u001b[32m100\u001b[39m"
      ]
     },
     "execution_count": 14,
     "metadata": {},
     "output_type": "execute_result"
    }
   ],
   "source": [
    "val vec = linspace(-2.0, 2.0, 100)\n",
    "//calling linspace with parameters above creates a dense vector of 100 items \n",
    "//a range of values between -2.0 to 2.0. The vec.size function call returns the items in the vector. \n",
    "vec.size"
   ]
  },
  {
   "cell_type": "code",
   "execution_count": 15,
   "metadata": {
    "scrolled": true
   },
   "outputs": [
    {
     "data": {
      "text/plain": [
       "\u001b[36mres14\u001b[39m: \u001b[32mDenseVector\u001b[39m[\u001b[32mDouble\u001b[39m] = DenseVector(0.11920292202211755, 0.12351078065662129, 0.12795170492445265, 0.13252816232963247, 0.13724254530265326, 0.1420971607344629, 0.14709421909266443, 0.15223582314389064, 0.15752395631140353, 0.16296047070232167, 0.16854707484446513, 0.17428532117858545, 0.18017659335766978, 0.1862220934110186, 0.1924228288368299, 0.19877959969300693, 0.20529298576176344, 0.21196333386923713, 0.21879074544665134, 0.22577506442447592, 0.23291586555544105, 0.2402124432660242, 0.24766380113907163, 0.2552686421324066, 0.26302535963951745, 0.270932029498612, 0.27898640305536465, 0.28718590138250266, 0.2955276107558948, 0.3040082794819692, 0.3126243161650686, 0.32137178949572387, 0.3302464296318116, 0.33924363123418283, 0.3483584582066727, 0.3575856501775114, 0.36691963074516754, 0.37635451749670706, 0.38588413379101544, 0.3955020222828881, 0.4052014601472693, 0.41497547594602757, 0.42481686806284763, 0.4347182246153462, 0.44467194473763105, 0.45467026111147996\u001b[33m...\u001b[39m"
      ]
     },
     "execution_count": 15,
     "metadata": {},
     "output_type": "execute_result"
    }
   ],
   "source": [
    "//sigmoid is a fuction in breeze.linalg package\n",
    "sigmoid(vec)"
   ]
  },
  {
   "cell_type": "markdown",
   "metadata": {},
   "source": [
    "The basic linear algebra operations underlying Breeze rely on the netlib-java library, which can use system-optimized BLAS and LAPACK libraries, if present. BLAS => Basic Linear Algebra Subprograms. LAPACK => Linear Algebra PACKage"
   ]
  }
 ],
 "metadata": {
  "celltoolbar": "Attachments",
  "kernelspec": {
   "display_name": "Scala",
   "language": "scala",
   "name": "scala"
  },
  "language_info": {
   "codemirror_mode": "text/x-scala",
   "file_extension": ".scala",
   "mimetype": "text/x-scala",
   "name": "scala211",
   "nbconvert_exporter": "script",
   "pygments_lexer": "scala",
   "version": "2.11.11"
  }
 },
 "nbformat": 4,
 "nbformat_minor": 2
}
