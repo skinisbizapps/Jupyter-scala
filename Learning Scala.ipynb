{
 "cells": [
  {
   "cell_type": "markdown",
   "metadata": {},
   "source": [
    "# Simple Class in Scala"
   ]
  },
  {
   "cell_type": "code",
   "execution_count": 1,
   "metadata": {},
   "outputs": [
    {
     "data": {
      "text/plain": [
       "defined \u001b[32mclass\u001b[39m \u001b[36mSimpleClass\u001b[39m"
      ]
     },
     "execution_count": 1,
     "metadata": {},
     "output_type": "execute_result"
    }
   ],
   "source": [
    "class SimpleClass(field0: Int, field2: String)"
   ]
  },
  {
   "cell_type": "markdown",
   "metadata": {},
   "source": [
    "# Case class in Scala"
   ]
  },
  {
   "cell_type": "code",
   "execution_count": 23,
   "metadata": {},
   "outputs": [
    {
     "data": {
      "text/plain": [
       "defined \u001b[32mclass\u001b[39m \u001b[36mSimpleCaseClass\u001b[39m"
      ]
     },
     "execution_count": 23,
     "metadata": {},
     "output_type": "execute_result"
    }
   ],
   "source": [
    "case class SimpleCaseClass(field0: Int, field1: String)"
   ]
  },
  {
   "cell_type": "markdown",
   "metadata": {},
   "source": [
    "# Hello World in Scala"
   ]
  },
  {
   "cell_type": "code",
   "execution_count": 25,
   "metadata": {},
   "outputs": [
    {
     "name": "stdout",
     "output_type": "stream",
     "text": [
      "Hello World"
     ]
    }
   ],
   "source": [
    "print(\"Hello World\")\n",
    "//defined in predef package in scala"
   ]
  },
  {
   "cell_type": "markdown",
   "metadata": {},
   "source": [
    "# Strings in Scala"
   ]
  },
  {
   "cell_type": "code",
   "execution_count": 2,
   "metadata": {},
   "outputs": [
    {
     "data": {
      "text/plain": [
       "\u001b[36ms\u001b[39m: \u001b[32mString\u001b[39m = \u001b[32m\"abc\"\u001b[39m"
      ]
     },
     "execution_count": 2,
     "metadata": {},
     "output_type": "execute_result"
    }
   ],
   "source": [
    "val s = \"abc\""
   ]
  },
  {
   "cell_type": "code",
   "execution_count": 3,
   "metadata": {},
   "outputs": [
    {
     "data": {
      "text/plain": [
       "\u001b[36mres2\u001b[39m: \u001b[32mClass\u001b[39m[\u001b[32m?0\u001b[39m] = class java.lang.String"
      ]
     },
     "execution_count": 3,
     "metadata": {},
     "output_type": "execute_result"
    }
   ],
   "source": [
    "s.getClass"
   ]
  },
  {
   "cell_type": "code",
   "execution_count": 4,
   "metadata": {},
   "outputs": [
    {
     "data": {
      "text/plain": [
       "\u001b[36ms1\u001b[39m: \u001b[32mString\u001b[39m = \u001b[32m\"\"\"\n",
       "\n",
       "| abc\n",
       "| def\n",
       "|\n",
       "\"\"\"\u001b[39m"
      ]
     },
     "execution_count": 4,
     "metadata": {},
     "output_type": "execute_result"
    }
   ],
   "source": [
    "val s1 = \"\"\"\n",
    "| abc\n",
    "| def\n",
    "|\"\"\"\n",
    "//this is an example of smart string"
   ]
  },
  {
   "cell_type": "code",
   "execution_count": 5,
   "metadata": {},
   "outputs": [
    {
     "data": {
      "text/plain": [
       "\u001b[36mres4\u001b[39m: \u001b[32mClass\u001b[39m[\u001b[32m?0\u001b[39m] = class java.lang.String"
      ]
     },
     "execution_count": 5,
     "metadata": {},
     "output_type": "execute_result"
    }
   ],
   "source": [
    "s1.getClass"
   ]
  },
  {
   "cell_type": "code",
   "execution_count": 6,
   "metadata": {},
   "outputs": [
    {
     "data": {
      "text/plain": [
       "\u001b[36mn\u001b[39m: \u001b[32mInt\u001b[39m = \u001b[32m3\u001b[39m"
      ]
     },
     "execution_count": 6,
     "metadata": {},
     "output_type": "execute_result"
    }
   ],
   "source": [
    "val n = 3"
   ]
  },
  {
   "cell_type": "code",
   "execution_count": 7,
   "metadata": {},
   "outputs": [
    {
     "data": {
      "text/plain": [
       "\u001b[36ms2\u001b[39m: \u001b[32mString\u001b[39m = \u001b[32m\"n is 3\"\u001b[39m"
      ]
     },
     "execution_count": 7,
     "metadata": {},
     "output_type": "execute_result"
    }
   ],
   "source": [
    "val s2 = s\"n is $n\""
   ]
  },
  {
   "cell_type": "code",
   "execution_count": 8,
   "metadata": {},
   "outputs": [
    {
     "data": {
      "text/plain": [
       "\u001b[36mres7\u001b[39m: \u001b[32mClass\u001b[39m[\u001b[32mInt\u001b[39m] = int"
      ]
     },
     "execution_count": 8,
     "metadata": {},
     "output_type": "execute_result"
    }
   ],
   "source": [
    "n.getClass //() after getClass are optional. No need if there aren't any values"
   ]
  },
  {
   "cell_type": "markdown",
   "metadata": {},
   "source": [
    "# Scala's Type Sytem\n",
    "<pre>\n",
    "Any\n",
    " |- AnyRef ~ java.lang.Object\n",
    " |   |-  All java.* ref types\n",
    " |   |-  All scala.* ref types\n",
    " |\n",
    " |- AnyVal\n",
    "     |-  Unit\n",
    "     |-  Char\n",
    "     |-  Double\n",
    "     |-  Long\n",
    "     |-  Byte\n",
    "     |-  Int\n",
    "     |-  Short\n",
    "     |-  Float\n",
    "     |-  Boolean\n",
    "</pre>\n",
    "There is all Null which applies to AnyRef and Nothing which applies to Any"
   ]
  },
  {
   "cell_type": "markdown",
   "metadata": {},
   "source": [
    "# Functions in Scala\n"
   ]
  },
  {
   "cell_type": "code",
   "execution_count": 9,
   "metadata": {},
   "outputs": [
    {
     "data": {
      "text/plain": [
       "defined \u001b[32mfunction\u001b[39m \u001b[36msquare\u001b[39m"
      ]
     },
     "execution_count": 9,
     "metadata": {},
     "output_type": "execute_result"
    }
   ],
   "source": [
    "def square(n: Int): Int = n * n\n"
   ]
  },
  {
   "cell_type": "code",
   "execution_count": 11,
   "metadata": {},
   "outputs": [
    {
     "data": {
      "text/plain": [
       "defined \u001b[32mfunction\u001b[39m \u001b[36mcube\u001b[39m"
      ]
     },
     "execution_count": 11,
     "metadata": {},
     "output_type": "execute_result"
    }
   ],
   "source": [
    "def cube(n: Int) = n * n * n\n",
    "// return type is optional and compiler uses type inference to determine the return type."
   ]
  },
  {
   "cell_type": "code",
   "execution_count": 13,
   "metadata": {},
   "outputs": [
    {
     "data": {
      "text/plain": [
       "defined \u001b[32mfunction\u001b[39m \u001b[36mfact\u001b[39m"
      ]
     },
     "execution_count": 13,
     "metadata": {},
     "output_type": "execute_result"
    }
   ],
   "source": [
    "// return type in recursive functions are required otherwise the compiler throws an error\n",
    "//def fact(n: Int) = n * fact(n - 1)\n",
    "// fails with an error - recursive method fact needs result type\n",
    "def fact(n: Int): Int = n * fact(n - 1)"
   ]
  },
  {
   "cell_type": "code",
   "execution_count": 14,
   "metadata": {},
   "outputs": [
    {
     "data": {
      "text/plain": [
       "defined \u001b[32mclass\u001b[39m \u001b[36mIntVal\u001b[39m"
      ]
     },
     "execution_count": 14,
     "metadata": {},
     "output_type": "execute_result"
    }
   ],
   "source": [
    "class IntVal(val i: Int) {\n",
    "    def + (j: IntVal) = new IntVal(i + j.i)\n",
    "}"
   ]
  },
  {
   "cell_type": "code",
   "execution_count": 16,
   "metadata": {},
   "outputs": [
    {
     "data": {
      "text/plain": [
       "\u001b[36mv1\u001b[39m: \u001b[32mIntVal\u001b[39m = $sess.cmd13Wrapper$Helper$IntVal@7ce30560\n",
       "\u001b[36mv2\u001b[39m: \u001b[32mIntVal\u001b[39m = $sess.cmd13Wrapper$Helper$IntVal@6c806996\n",
       "\u001b[36mv3\u001b[39m: \u001b[32mIntVal\u001b[39m = $sess.cmd13Wrapper$Helper$IntVal@94e64f1\n",
       "\u001b[36mv4\u001b[39m: \u001b[32mIntVal\u001b[39m = $sess.cmd13Wrapper$Helper$IntVal@42e28f3f"
      ]
     },
     "execution_count": 16,
     "metadata": {},
     "output_type": "execute_result"
    }
   ],
   "source": [
    "val v1 = new IntVal(2)\n",
    "val v2 = new IntVal(3)\n",
    "val v3 = v1.+(v2)\n",
    "val v4 = v1 + v2"
   ]
  },
  {
   "cell_type": "code",
   "execution_count": 17,
   "metadata": {},
   "outputs": [
    {
     "data": {
      "text/plain": [
       "\u001b[36mres16_0\u001b[39m: \u001b[32mInt\u001b[39m = \u001b[32m5\u001b[39m\n",
       "\u001b[36mres16_1\u001b[39m: \u001b[32mInt\u001b[39m = \u001b[32m5\u001b[39m"
      ]
     },
     "execution_count": 17,
     "metadata": {},
     "output_type": "execute_result"
    }
   ],
   "source": [
    "v3.i\n",
    "v4.i"
   ]
  },
  {
   "cell_type": "code",
   "execution_count": 21,
   "metadata": {},
   "outputs": [
    {
     "data": {
      "text/plain": [
       "defined \u001b[32mfunction\u001b[39m \u001b[36mfoo\u001b[39m\n",
       "\u001b[36mres20_1\u001b[39m: \u001b[32mAny\u001b[39m = 3\n",
       "\u001b[36mres20_2\u001b[39m: \u001b[32mAny\u001b[39m = zero"
      ]
     },
     "execution_count": 21,
     "metadata": {},
     "output_type": "execute_result"
    }
   ],
   "source": [
    "def foo(n: Int) = if(n > 0) 3 else \"zero\"\n",
    "\n",
    "foo(4) // prints 3 but is of type Any instead of Int\n",
    "\n",
    "foo(-5) //prints \"zero\" but is of type Any instead of String"
   ]
  },
  {
   "cell_type": "markdown",
   "metadata": {},
   "source": [
    "# Val and Var in Scala\n",
    "\n",
    "val is similar to a final constant in Java\n",
    "var is variable. Not recommended and should be avoided in favor of val."
   ]
  },
  {
   "cell_type": "code",
   "execution_count": 22,
   "metadata": {},
   "outputs": [
    {
     "name": "stdout",
     "output_type": "stream",
     "text": [
      "1015"
     ]
    },
    {
     "data": {
      "text/plain": [
       "\u001b[36mp\u001b[39m: \u001b[32mInt\u001b[39m = \u001b[32m15\u001b[39m"
      ]
     },
     "execution_count": 22,
     "metadata": {},
     "output_type": "execute_result"
    }
   ],
   "source": [
    "var p = 10\n",
    "print(p)\n",
    "p = 15\n",
    "print(p)\n",
    "//p=\"Hello\" not possible"
   ]
  },
  {
   "cell_type": "markdown",
   "metadata": {},
   "source": [
    "# Expression Evaluation in Scala"
   ]
  },
  {
   "cell_type": "markdown",
   "metadata": {},
   "source": [
    "# Evaluation in Practice in Scala"
   ]
  },
  {
   "cell_type": "markdown",
   "metadata": {},
   "source": [
    "# Control Constructions in Scala"
   ]
  },
  {
   "cell_type": "code",
   "execution_count": 26,
   "metadata": {},
   "outputs": [
    {
     "name": "stdout",
     "output_type": "stream",
     "text": [
      "1\n",
      "2\n",
      "3\n",
      "4\n",
      "5\n"
     ]
    }
   ],
   "source": [
    "for(n <- 1 to 5) println(n)"
   ]
  },
  {
   "cell_type": "markdown",
   "metadata": {},
   "source": [
    "# Default Arguments in Scala"
   ]
  },
  {
   "cell_type": "code",
   "execution_count": 32,
   "metadata": {},
   "outputs": [
    {
     "name": "stdout",
     "output_type": "stream",
     "text": [
      "a: 0, b: abc, c:10\n",
      "a: 3, b: hello, c:10\n",
      "a: 4, b: abc, c:10\n",
      "a: 4, b: Hello, c:100\n",
      "a: 0, b: abc, c:4\n",
      "a: 100, b: Howdy, c:4\n"
     ]
    },
    {
     "data": {
      "text/plain": [
       "defined \u001b[32mfunction\u001b[39m \u001b[36mfoo\u001b[39m"
      ]
     },
     "execution_count": 32,
     "metadata": {},
     "output_type": "execute_result"
    }
   ],
   "source": [
    "def foo(a: Int = 0, b: String = \"abc\", c: Int = 10) = {\n",
    "    println(s\"a: $a, b: $b, c:$c\")\n",
    "}\n",
    "foo() // need paranthesis for calling default values\n",
    "foo(3, \"hello\")\n",
    "foo(4)\n",
    "foo(4, \"Hello\", 100)\n",
    "foo(c = 4)\n",
    "foo(c = 4, b = \"Howdy\", a = 100)"
   ]
  },
  {
   "cell_type": "markdown",
   "metadata": {},
   "source": [
    "# Variable Arguments in Scala"
   ]
  },
  {
   "cell_type": "code",
   "execution_count": 33,
   "metadata": {},
   "outputs": [
    {
     "data": {
      "text/plain": [
       "defined \u001b[32mfunction\u001b[39m \u001b[36msum\u001b[39m\n",
       "\u001b[36mres32_1\u001b[39m: \u001b[32mInt\u001b[39m = \u001b[32m15\u001b[39m"
      ]
     },
     "execution_count": 33,
     "metadata": {},
     "output_type": "execute_result"
    }
   ],
   "source": [
    "def sum(num: Int*) = {\n",
    "    var total = 0\n",
    "    for (n <- num) \n",
    "        total += n\n",
    "     total\n",
    "    }\n",
    "sum(1,2,3,4,5)"
   ]
  },
  {
   "cell_type": "markdown",
   "metadata": {},
   "source": [
    "# Imports and Packages in Scala"
   ]
  },
  {
   "cell_type": "code",
   "execution_count": 38,
   "metadata": {},
   "outputs": [
    {
     "data": {
      "text/plain": [
       "\u001b[32mimport \u001b[39m\u001b[36mjava.util.List\n",
       "\u001b[39m\n",
       "\u001b[32mimport \u001b[39m\u001b[36mjava.util.ArrayList\n",
       "\u001b[39m\n",
       "\u001b[36ml\u001b[39m: \u001b[32mArrayList\u001b[39m[\u001b[32mString\u001b[39m] = [Hello]\n",
       "\u001b[36mres37_3\u001b[39m: \u001b[32mBoolean\u001b[39m = \u001b[32mtrue\u001b[39m\n",
       "\u001b[36mres37_4\u001b[39m: \u001b[32mArrayList\u001b[39m[\u001b[32mString\u001b[39m] = [Hello]\n",
       "\u001b[32mimport \u001b[39m\u001b[36mjava.util.concurrent._ //bring in all classes in that package\n",
       "\u001b[39m\n",
       "\u001b[32mimport \u001b[39m\u001b[36mjava.util.{Map, HashMap} //bring is specific classes in a package\n",
       "\n",
       "\n",
       "\u001b[39m\n",
       "\u001b[32mimport \u001b[39m\u001b[36mjava.util.{Date => UDate} //create an alias so you can use it in cases when there are\n",
       "//two classes with similar names\n",
       "\u001b[39m\n",
       "\u001b[32mimport \u001b[39m\u001b[36mjava.sql.{Date => SDate}\n",
       "\u001b[39m\n",
       "\u001b[36md\u001b[39m: \u001b[32mjava\u001b[39m.\u001b[32mutil\u001b[39m.\u001b[32mDate\u001b[39m = Mon Jun 26 20:07:44 PDT 2017\n",
       "\u001b[36msd\u001b[39m: \u001b[32mjava\u001b[39m.\u001b[32msql\u001b[39m.\u001b[32mDate\u001b[39m = 2017-06-26\n",
       "\u001b[32mimport \u001b[39m\u001b[36mjava.util.{List, ArrayList , Map, HashMap}\u001b[39m"
      ]
     },
     "execution_count": 38,
     "metadata": {},
     "output_type": "execute_result"
    }
   ],
   "source": [
    "import java.util.List\n",
    "import java.util.ArrayList\n",
    "val l = new ArrayList[String]\n",
    "l.add(\"Hello\")\n",
    "l\n",
    "import java.util.concurrent._ //bring in all classes in that package\n",
    "import java.util.{Map, HashMap} //bring is specific classes in a package\n",
    "\n",
    "\n",
    "import java.util.{Date => UDate} //create an alias so you can use it in cases when there are\n",
    "//two classes with similar names\n",
    "import java.sql.{Date => SDate}\n",
    "val d = new UDate\n",
    "val sd = new SDate(d.getTime)\n",
    "\n",
    "//how to import static members in a specific class - import static in java\n",
    "\n",
    "//does this work\n",
    "import java.util.{List, ArrayList , Map, HashMap}"
   ]
  },
  {
   "cell_type": "code",
   "execution_count": 86,
   "metadata": {},
   "outputs": [
    {
     "data": {
      "text/plain": [
       "defined \u001b[32mfunction\u001b[39m \u001b[36mfactorialOf\u001b[39m\n",
       "\u001b[36mres85_1\u001b[39m: \u001b[32mLong\u001b[39m = \u001b[32m1L\u001b[39m\n",
       "\u001b[36mres85_2\u001b[39m: \u001b[32mLong\u001b[39m = \u001b[32m2L\u001b[39m\n",
       "\u001b[36mres85_3\u001b[39m: \u001b[32mLong\u001b[39m = \u001b[32m24L\u001b[39m\n",
       "\u001b[36mres85_4\u001b[39m: \u001b[32mLong\u001b[39m = \u001b[32m120L\u001b[39m\n",
       "\u001b[36mres85_5\u001b[39m: \u001b[32mLong\u001b[39m = \u001b[32m1L\u001b[39m\n",
       "\u001b[36mres85_6\u001b[39m: \u001b[32mLong\u001b[39m = \u001b[32m7034535277573963776L\u001b[39m\n",
       "\u001b[36mres85_7\u001b[39m: \u001b[32mLong\u001b[39m = \u001b[32m1L\u001b[39m"
      ]
     },
     "execution_count": 86,
     "metadata": {},
     "output_type": "execute_result"
    }
   ],
   "source": [
    "// exercises\n",
    "// calculate factorial (recursively)\n",
    "\n",
    "//def fact(n: Int): Int =  if(n < 0) { n * fact(n - 1) } else n\n",
    "//fact(5)\n",
    "def factorialOf(n: Int) : Long = { if(n > 0 && n <= 25) {n * factorialOf(n - 1) } else 1 }\n",
    "\n",
    "factorialOf(1)\n",
    "factorialOf(2)\n",
    "factorialOf(4)\n",
    "factorialOf(5)\n",
    "factorialOf(-1)\n",
    "factorialOf(25)\n",
    "factorialOf(27)"
   ]
  },
  {
   "cell_type": "code",
   "execution_count": 71,
   "metadata": {},
   "outputs": [
    {
     "data": {
      "text/plain": [
       "\u001b[32mimport \u001b[39m\u001b[36mjava.time.format.DateTimeFormatter._ //equivalent to calling the static members directly\n",
       "\u001b[39m\n",
       "\u001b[32mimport \u001b[39m\u001b[36mjava.time.{LocalDate, ZoneId}\n",
       "\u001b[39m\n",
       "\u001b[32mimport \u001b[39m\u001b[36mjava.util.{Date => UDate, Calendar}\n",
       "\u001b[39m\n",
       "\u001b[32mimport \u001b[39m\u001b[36mjava.sql.{Date => SDate}\n",
       "\u001b[39m\n",
       "defined \u001b[32mfunction\u001b[39m \u001b[36misLeapYear\u001b[39m\n",
       "\u001b[36mres70_5\u001b[39m: \u001b[32mBoolean\u001b[39m = \u001b[32mtrue\u001b[39m\n",
       "\u001b[36mcal\u001b[39m: \u001b[32mCalendar\u001b[39m = java.util.GregorianCalendar[time=954390382900,areFieldsSet=true,areAllFieldsSet=false,lenient=true,zone=sun.util.calendar.ZoneInfo[id=\"America/Los_Angeles\",offset=-28800000,dstSavings=3600000,useDaylight=true,transitions=185,lastRule=java.util.SimpleTimeZone[id=America/Los_Angeles,offset=-28800000,dstSavings=3600000,useDaylight=true,startYear=0,startMode=3,startMonth=2,startDay=8,startDayOfWeek=1,startTime=7200000,startTimeMode=0,endMode=3,endMonth=10,endDay=1,endDayOfWeek=1,endTime=7200000,endTimeMode=0]],firstDayOfWeek=1,minimalDaysInFirstWeek=1,ERA=1,YEAR=2000,MONTH=2,WEEK_OF_YEAR=14,WEEK_OF_MONTH=5,DAY_OF_MONTH=29,DAY_OF_YEAR=89,DAY_OF_WEEK=4,DAY_OF_WEEK_IN_MONTH=5,AM_PM=1,HOUR=8,HOUR_OF_DAY=20,MINUTE=26,SECOND=22,MILLISECOND=900,ZONE_OFFSET=-28800000,DST_OFFSET=0]\n",
       "\u001b[36mres70_8\u001b[39m: \u001b[32mBoolean\u001b[39m = \u001b[32mtrue\u001b[39m\n",
       "\u001b[36mres70_9\u001b[39m: \u001b[32mBoolean\u001b[39m = \u001b[32mtrue\u001b[39m\n",
       "\u001b[36mres70_10\u001b[39m: \u001b[32mBoolean\u001b[39m = \u001b[32mtrue\u001b[39m"
      ]
     },
     "execution_count": 71,
     "metadata": {},
     "output_type": "execute_result"
    }
   ],
   "source": [
    "// calculate whether a date falls in a leap year or not\n",
    "    // Given a data specified as either\n",
    "        // A string, a java.util.Date, a java.sql.Date, a java.time.LocalDate\n",
    "\n",
    "\n",
    "//is date a leap year with date provided as String\n",
    "import java.time.format.DateTimeFormatter._ //equivalent to calling the static members directly\n",
    "import java.time.{LocalDate, ZoneId}\n",
    "import java.util.{Date => UDate, Calendar}\n",
    "import java.sql.{Date => SDate}\n",
    "def isLeapYear[D](dt: D): Boolean = {\n",
    "    dt match {\n",
    "        case s: String => LocalDate.parse(s, ofPattern(\"MMddyyyy\")).isLeapYear\n",
    "        case sd: SDate => sd.toLocalDate.isLeapYear\n",
    "        case d: UDate => d.toInstant.atZone(ZoneId.systemDefault()).toLocalDate.isLeapYear\n",
    "        case ld: LocalDate => ld.isLeapYear\n",
    "    }\n",
    "}\n",
    "isLeapYear(\"02292000\")\n",
    "val cal = Calendar.getInstance()\n",
    "cal.set(2000,2,29)\n",
    "isLeapYear(cal.getTime())\n",
    "isLeapYear(new SDate(cal.getTimeInMillis()))\n",
    "isLeapYear(LocalDate.of(2000,2,29))"
   ]
  },
  {
   "cell_type": "code",
   "execution_count": null,
   "metadata": {
    "collapsed": true
   },
   "outputs": [],
   "source": []
  }
 ],
 "metadata": {
  "kernelspec": {
   "display_name": "Scala",
   "language": "scala",
   "name": "scala"
  },
  "language_info": {
   "codemirror_mode": "text/x-scala",
   "file_extension": ".scala",
   "mimetype": "text/x-scala",
   "name": "scala211",
   "nbconvert_exporter": "script",
   "pygments_lexer": "scala",
   "version": "2.11.11"
  }
 },
 "nbformat": 4,
 "nbformat_minor": 2
}
